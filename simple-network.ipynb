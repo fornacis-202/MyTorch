{
 "cells": [
  {
   "cell_type": "markdown",
   "metadata": {},
   "source": [
    "### Import Libraries"
   ]
  },
  {
   "cell_type": "code",
   "execution_count": 1,
   "metadata": {},
   "outputs": [],
   "source": [
    "\"If it does not work use code below while running this notebook in this dir.\"\n",
    "# import sys\n",
    "# import os\n",
    "# sys.path.append(os.path.abspath(os.getcwd()))\n",
    "\n",
    "from mytorch import Tensor\n",
    "from mytorch import activation as active_func\n",
    "from mytorch import loss as loss_func\n",
    "from mytorch import optimizer as optim \n",
    "from mytorch import layer as nn\n",
    "\n",
    "import numpy as np\n",
    "import matplotlib.pyplot as plt"
   ]
  },
  {
   "cell_type": "markdown",
   "metadata": {},
   "source": [
    "### Simple Network\n",
    "here you have to define a simple linear layer to find coefficients of x_i in below problem. <br>\n",
    "y = ax_1 + bx_2 + cx_3 <br><br>\n",
    "![simple network.drawio.png](<attachment:simple network.drawio.png>)\n",
    "<br><br>\n",
    "weights of this linear layer is your answer. "
   ]
  },
  {
   "cell_type": "markdown",
   "metadata": {},
   "source": [
    "### Generate Data"
   ]
  },
  {
   "cell_type": "code",
   "execution_count": 2,
   "metadata": {},
   "outputs": [],
   "source": [
    "\"TODO: set coefficients\"\n",
    "a = 1\n",
    "b = 2\n",
    "c = 3\n",
    "\n",
    "X = Tensor(np.random.randn(100, 3))\n",
    "coef = Tensor(np.array([[a], [b], [c]]))\n",
    "y = X @ coef + 5\n"
   ]
  },
  {
   "cell_type": "markdown",
   "metadata": {},
   "source": [
    "### Train Network"
   ]
  },
  {
   "cell_type": "code",
   "execution_count": 7,
   "metadata": {},
   "outputs": [
    {
     "name": "stdout",
     "output_type": "stream",
     "text": [
      "initial W and bias:\n",
      "Tensor([[ 0.8634548 ]\n",
      " [ 1.02439478]\n",
      " [-1.92928066]], requires_grad=True)\n",
      "Tensor([0.], requires_grad=True)\n"
     ]
    }
   ],
   "source": [
    "l = nn.Linear(3, 1, need_bias=True)\n",
    "\n",
    "\"TODO: define an optimizer\"\n",
    "optimizer = optim.SGD([l])\n",
    "\n",
    "\"TODO: print weight and bias of linear layer\"\n",
    "print(\"initial W and bias:\")\n",
    "print(l.weight)\n",
    "print(l.bias)\n",
    "\n",
    "batch_size = 20\n",
    "epLoss = []\n",
    "\n",
    "for epoch in range(100):\n",
    "    \n",
    "    epoch_loss = 0.0\n",
    "    \n",
    "    for start in range(0, 100, batch_size):\n",
    "        end = start + batch_size\n",
    "\n",
    "        inputs = X[start:end]\n",
    "\n",
    "        # TODO: predicted\n",
    "        predicted = l.forward(inputs)\n",
    "        # TODO: calculate MSE loss\n",
    "        actual = y[start:end]\n",
    "        actual.data = actual.data.reshape(batch_size, 1)\n",
    "        loss = loss_func.MeanSquaredError(predicted, actual)\n",
    "        # TODO: backward\n",
    "        loss.backward()\n",
    "        # TODO: add loss to epoch_loss\n",
    "        epoch_loss += loss.data\n",
    "\n",
    "        # TODO: update w and b using optimizer\n",
    "        optimizer.step()\n",
    "        l.zero_grad()\n",
    "\n",
    "    epLoss.append(epoch_loss)\n",
    "    "
   ]
  },
  {
   "cell_type": "markdown",
   "metadata": {},
   "source": [
    "### Evaluate"
   ]
  },
  {
   "cell_type": "code",
   "execution_count": 8,
   "metadata": {},
   "outputs": [
    {
     "data": {
      "image/png": "[encoded data removed]",
      "text/plain": [
       "<Figure size 432x288 with 1 Axes>"
      ]
     },
     "metadata": {
      "needs_background": "light"
     },
     "output_type": "display_data"
    },
    {
     "name": "stdout",
     "output_type": "stream",
     "text": [
      "\n",
      "OUT W and bias:\n",
      "Tensor([[1.]\n",
      " [2.]\n",
      " [3.]], requires_grad=True)\n",
      "Tensor([5.], requires_grad=True)\n"
     ]
    }
   ],
   "source": [
    "plt.plot(epLoss, label='Error')\n",
    "plt.xlabel('epoch')\n",
    "plt.ylabel('error')\n",
    "plt.show();\n",
    "\n",
    "print(\"\\nOUT W and bias:\")\n",
    "print(l.weight)\n",
    "print(l.bias)"
   ]
  },
  {
   "cell_type": "code",
   "execution_count": null,
   "metadata": {},
   "outputs": [],
   "source": []
  },
  {
   "cell_type": "code",
   "execution_count": null,
   "metadata": {},
   "outputs": [],
   "source": []
  }
 ],
 "metadata": {
  "kernelspec": {
   "display_name": "Python 3",
   "language": "python",
   "name": "python3"
  },
  "language_info": {
   "codemirror_mode": {
    "name": "ipython",
    "version": 3
   },
   "file_extension": ".py",
   "mimetype": "text/x-python",
   "name": "python",
   "nbconvert_exporter": "python",
   "pygments_lexer": "ipython3",
   "version": "3.8.8"
  }
 },
 "nbformat": 4,
 "nbformat_minor": 2
}
