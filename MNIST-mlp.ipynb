{
 "cells": [
  {
   "cell_type": "markdown",
   "metadata": {},
   "source": [
    "### Import Libraries"
   ]
  },
  {
   "cell_type": "code",
   "execution_count": 1,
   "metadata": {},
   "outputs": [],
   "source": [
    "\"If it does not work use code below while running this notebook in this dir.\"\n",
    "# import sys\n",
    "# import os\n",
    "# sys.path.append(os.path.abspath(os.getcwd()))\n",
    "\n",
    "from mytorch import Tensor, Model\n",
    "from mytorch import activation as active_func\n",
    "from mytorch import loss as loss_func\n",
    "from mytorch import optimizer as optim \n",
    "from mytorch import layer as nn\n",
    "from mytorch.util import DataLoader\n",
    "\n",
    "from mytorch.util import flatten\n",
    "\n",
    "import matplotlib.pyplot as plt\n",
    "import numpy as np"
   ]
  },
  {
   "cell_type": "markdown",
   "metadata": {},
   "source": [
    "### Load MNIST"
   ]
  },
  {
   "cell_type": "code",
   "execution_count": 2,
   "metadata": {},
   "outputs": [
    {
     "name": "stdout",
     "output_type": "stream",
     "text": [
      "loading train...\n",
      "loading test...\n",
      "processing...\n",
      "50\n",
      "(200,)\n"
     ]
    }
   ],
   "source": [
    "\"\"\"\n",
    "load data set with given data loader.\n",
    "you have 10000 train data, 1000 for each number, remember to shuffle training data.\n",
    "you have 1000 test data, 100 for each number.\n",
    "\n",
    "loaded data is a list of (img, label)\n",
    "type of img is Tensor.\n",
    "\n",
    "TODO: you have to get this list and create batches for training.\n",
    "you can also apply this changes later in the Training part for convenience.\n",
    "\"\"\"\n",
    "data_loader = DataLoader(train_addr='MNIST/train', test_addr='MNIST/test')\n",
    "data_loader.load()\n",
    "\"you can see how data is loaded\"\n",
    "print(len(data_loader.getTrain()))\n",
    "print(data_loader.getTrain()[0][1].shape)"
   ]
  },
  {
   "cell_type": "markdown",
   "metadata": {},
   "source": [
    "### Define and Create your Model"
   ]
  },
  {
   "cell_type": "code",
   "execution_count": 3,
   "metadata": {},
   "outputs": [
    {
     "name": "stdout",
     "output_type": "stream",
     "text": [
      "fc1:  linear - total param: 401408 - in: 784, out: 512\n",
      "fc2:  linear - total param: 32768 - in: 512, out: 64\n",
      "fc3:  linear - total param: 640 - in: 64, out: 10\n",
      "None\n"
     ]
    }
   ],
   "source": [
    "class MyModel(Model):\n",
    "    def __init__(self):\n",
    "        \"TODO: define your layers. order is important\" \n",
    "        self.fc1 = nn.Linear(784,512,need_bias = True)\n",
    "        self.fc2 = nn.Linear(512,64,need_bias = True)\n",
    "        self.fc3 = nn.Linear(64,10,need_bias = True)\n",
    "\n",
    "    def forward(self, x: Tensor) -> Tensor:\n",
    "        \"TODO: define forward pass\"\n",
    "        y = active_func.relu(self.fc1(x))\n",
    "        y = active_func.relu(self.fc2(y))\n",
    "        y = active_func.softmax(self.fc3(y))\n",
    "        return y\n",
    "\n",
    "model = MyModel()\n",
    "print(model.summary())"
   ]
  },
  {
   "cell_type": "markdown",
   "metadata": {},
   "source": [
    "### Choose a Loss Function"
   ]
  },
  {
   "cell_type": "code",
   "execution_count": 4,
   "metadata": {},
   "outputs": [],
   "source": [
    "\"TODO: choose a proper loss function\"\n",
    "criterion = loss_func.CategoricalCrossEntropy"
   ]
  },
  {
   "cell_type": "markdown",
   "metadata": {},
   "source": [
    "### Choose an Optimizer"
   ]
  },
  {
   "cell_type": "code",
   "execution_count": 5,
   "metadata": {},
   "outputs": [],
   "source": [
    "\"TODO: choose a proper optimizer\"\n",
    "optimizer = optimizer = optim.SGD(model.parameters(),learning_rate = 0.00001)\n",
    "# optimizer = optimizer = optim.RMSprop(model.parameters())"
   ]
  },
  {
   "cell_type": "markdown",
   "metadata": {},
   "source": [
    "### Training Model"
   ]
  },
  {
   "cell_type": "code",
   "execution_count": 6,
   "metadata": {},
   "outputs": [],
   "source": [
    "def reshape(x: Tensor, newShape) -> Tensor:\n",
    "    data = x.data.reshape(newShape)\n",
    "    req_grad =x.requires_grad\n",
    "    depends_on = x.depends_on\n",
    "    return Tensor(data=data, requires_grad=req_grad, depends_on=depends_on)"
   ]
  },
  {
   "cell_type": "code",
   "execution_count": 7,
   "metadata": {},
   "outputs": [
    {
     "name": "stdout",
     "output_type": "stream",
     "text": [
      "0\n",
      "0 train 0.35889999999999994\n",
      "0 test 0.42299999999999993\n",
      "1\n",
      "1 train 0.4987\n",
      "1 test 0.558\n",
      "2\n",
      "2 train 0.6192\n",
      "2 test 0.635\n",
      "3\n",
      "3 train 0.6973999999999999\n",
      "3 test 0.688\n",
      "4\n",
      "4 train 0.7467000000000001\n",
      "4 test 0.72\n",
      "5\n",
      "5 train 0.7764000000000002\n",
      "5 test 0.7620000000000001\n",
      "6\n",
      "6 train 0.8025999999999996\n",
      "6 test 0.774\n",
      "7\n",
      "7 train 0.8203\n",
      "7 test 0.782\n",
      "8\n",
      "8 train 0.8364000000000001\n",
      "8 test 0.7949999999999999\n",
      "9\n",
      "9 train 0.8476000000000002\n",
      "9 test 0.8019999999999999\n",
      "10\n",
      "10 train 0.8565\n",
      "10 test 0.807\n",
      "11\n",
      "11 train 0.8665999999999998\n",
      "11 test 0.817\n",
      "12\n",
      "12 train 0.8747999999999999\n",
      "12 test 0.8220000000000001\n",
      "13\n",
      "13 train 0.8807000000000003\n",
      "13 test 0.825\n",
      "14\n",
      "14 train 0.8875000000000003\n",
      "14 test 0.829\n",
      "15\n",
      "15 train 0.8932000000000003\n",
      "15 test 0.8309999999999998\n",
      "16\n",
      "16 train 0.8968000000000003\n",
      "16 test 0.8370000000000001\n",
      "17\n",
      "17 train 0.9024000000000002\n",
      "17 test 0.8400000000000001\n",
      "18\n",
      "18 train 0.9071000000000002\n",
      "18 test 0.841\n",
      "19\n",
      "19 train 0.9125999999999996\n",
      "19 test 0.844\n",
      "20\n",
      "20 train 0.9163000000000001\n",
      "20 test 0.8459999999999999\n",
      "21\n",
      "21 train 0.9193999999999997\n",
      "21 test 0.845\n",
      "22\n",
      "22 train 0.9219000000000003\n",
      "22 test 0.8469999999999999\n",
      "23\n",
      "23 train 0.9246000000000001\n",
      "23 test 0.8489999999999999\n",
      "24\n",
      "24 train 0.9266000000000001\n",
      "24 test 0.852\n",
      "25\n",
      "25 train 0.9287999999999998\n",
      "25 test 0.8550000000000001\n",
      "26\n",
      "26 train 0.9314000000000003\n",
      "26 test 0.8539999999999999\n",
      "27\n",
      "27 train 0.9335000000000002\n",
      "27 test 0.853\n",
      "28\n",
      "28 train 0.9352000000000001\n",
      "28 test 0.8549999999999999\n",
      "29\n",
      "29 train 0.9379000000000001\n",
      "29 test 0.8569999999999999\n",
      "30\n",
      "30 train 0.9390999999999999\n",
      "30 test 0.858\n",
      "31\n",
      "31 train 0.9403\n",
      "31 test 0.86\n",
      "32\n",
      "32 train 0.9423999999999999\n",
      "32 test 0.8619999999999999\n",
      "33\n",
      "33 train 0.9446000000000001\n",
      "33 test 0.866\n",
      "34\n",
      "34 train 0.9470000000000005\n",
      "34 test 0.868\n",
      "35\n",
      "35 train 0.9488000000000001\n",
      "35 test 0.869\n",
      "36\n",
      "36 train 0.95\n",
      "36 test 0.868\n",
      "37\n",
      "37 train 0.9511999999999999\n",
      "37 test 0.8699999999999999\n",
      "38\n",
      "38 train 0.9530000000000001\n",
      "38 test 0.8699999999999999\n",
      "39\n",
      "39 train 0.9541000000000001\n",
      "39 test 0.8720000000000001\n",
      "40\n",
      "40 train 0.9553000000000001\n",
      "40 test 0.873\n",
      "41\n",
      "41 train 0.9563000000000001\n",
      "41 test 0.8720000000000001\n",
      "42\n",
      "42 train 0.9575\n",
      "42 test 0.8720000000000001\n",
      "43\n",
      "43 train 0.9586\n",
      "43 test 0.8720000000000001\n",
      "44\n",
      "44 train 0.9592999999999999\n",
      "44 test 0.8720000000000001\n"
     ]
    }
   ],
   "source": [
    "\"TODO: define number of epoch and train batches of data on your model. also test each epoch.\"\n",
    "EPOCH = 45\n",
    "\n",
    "train_acc = []\n",
    "test_acc = []\n",
    "best_train_acc = 0.0\n",
    "best_test_acc = 0.0\n",
    "\n",
    "for i in range(EPOCH):\n",
    "    \"TODO: train over your defined batches and save train accuracy for each epoch.\"\n",
    "    print(i)\n",
    "    total_acc = 0.0\n",
    "    for batch in data_loader.getTrain():\n",
    "        x = batch[0]\n",
    "        x = reshape(x, (-1, 784))\n",
    "        labels = batch[1].data\n",
    "        labels = np.array(labels)\n",
    "        actual_data = np.zeros((len(labels), 10))\n",
    "        actual_data[np.arange(len(labels)), labels] = 1\n",
    "        actual = Tensor(data=actual_data,requires_grad=False,depends_on=None)\n",
    "        \n",
    "        optimizer.zero_grad()\n",
    "        predicted = model.forward(x)\n",
    "        loss = criterion(predicted, actual)\n",
    "        loss.backward()\n",
    "        optimizer.step()\n",
    "        \n",
    "        #evaluating\n",
    "        predicted_bool = np.round(predicted.data).astype(bool)\n",
    "        actual_bool = (actual.data).astype(bool)\n",
    "        correct = np.sum(predicted_bool & actual_bool)\n",
    "        total = actual_bool.shape[0]\n",
    "        accuracy = correct/total\n",
    "        total_acc += accuracy\n",
    "    epoch_acc = total_acc / 50\n",
    "    print(i,\"train\",epoch_acc)\n",
    "    train_acc.append(epoch_acc)\n",
    "    best_train_acc = max(best_train_acc,epoch_acc)\n",
    "    \n",
    "    \"TODO: test your model after each training and save test accuracy for each epoch.\"\n",
    "    total_acc = 0.0\n",
    "    for batch in data_loader.getTest():\n",
    "        x_test = batch[0]\n",
    "        x_test = reshape(x_test, (-1, 784))\n",
    "        labels = batch[1].data\n",
    "        labels = np.array(labels)\n",
    "        actual_data = np.zeros((len(labels), 10))\n",
    "        actual_data[np.arange(len(labels)), labels] = 1\n",
    "        actual = Tensor(data=actual_data,requires_grad=False,depends_on=None)\n",
    "        \n",
    "        predicted = model.forward(x_test)\n",
    "        predicted_bool = np.round(predicted.data).astype(bool)\n",
    "        actual_bool = (actual.data).astype(bool)\n",
    "        correct = np.sum(predicted_bool & actual_bool)\n",
    "        total = actual_bool.shape[0]\n",
    "        accuracy = correct/total\n",
    "        total_acc += accuracy\n",
    "    epoch_acc = total_acc / 5\n",
    "    print(i,\"test\",epoch_acc)\n",
    "    test_acc.append(epoch_acc)\n",
    "    best_test_acc = max(best_test_acc,epoch_acc)\n"
   ]
  },
  {
   "cell_type": "markdown",
   "metadata": {},
   "source": [
    "### Evaluate Model Performance"
   ]
  },
  {
   "cell_type": "code",
   "execution_count": 8,
   "metadata": {},
   "outputs": [
    {
     "data": {
      "image/png": "[encoded data removed]",
      "text/plain": [
       "<Figure size 432x288 with 1 Axes>"
      ]
     },
     "metadata": {
      "needs_background": "light"
     },
     "output_type": "display_data"
    },
    {
     "name": "stdout",
     "output_type": "stream",
     "text": [
      "\n",
      "On train - best accuracy: 0.96, final accuracy: 0.96\n",
      "On test - best accuracy: 0.87, final accuracy: 0.87\n"
     ]
    }
   ],
   "source": [
    "plt.plot(train_acc, label='train accuracy')\n",
    "plt.plot(test_acc, label = 'test accuracy')\n",
    "plt.xlabel('Epoch')\n",
    "plt.ylabel('Accuracy')\n",
    "plt.legend(loc='lower right')\n",
    "plt.show();\n",
    "\n",
    "print(\"\\nOn train - best accuracy: {:.2f}, final accuracy: {:.2f}\".format(best_train_acc, train_acc[-1]))\n",
    "print(\"On test - best accuracy: {:.2f}, final accuracy: {:.2f}\".format(best_test_acc, test_acc[-1]))"
   ]
  },
  {
   "cell_type": "code",
   "execution_count": null,
   "metadata": {},
   "outputs": [],
   "source": []
  }
 ],
 "metadata": {
  "kernelspec": {
   "display_name": "Python 3",
   "language": "python",
   "name": "python3"
  },
  "language_info": {
   "codemirror_mode": {
    "name": "ipython",
    "version": 3
   },
   "file_extension": ".py",
   "mimetype": "text/x-python",
   "name": "python",
   "nbconvert_exporter": "python",
   "pygments_lexer": "ipython3",
   "version": "3.8.8"
  }
 },
 "nbformat": 4,
 "nbformat_minor": 2
}
